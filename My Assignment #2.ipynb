{
 "cells": [
  {
   "cell_type": "code",
   "execution_count": 4,
   "metadata": {},
   "outputs": [
    {
     "name": "stdout",
     "output_type": "stream",
     "text": [
      "-------------------------------------------------------\n",
      "\t\t\tMARK SHEET APP\n",
      "-------------------------------------------------------\n",
      "\n",
      "Enter your marks to generate marksheet\n",
      "Mathematics Marks(Total=100):80\n",
      "Physics Marks(Total=100): 75\n",
      "Islamiat Marks(Total=100): 82\n",
      "English Marks(Total=100): 70\n",
      "Chemistry Marks(Total=100): 74\n",
      "B Grade 76.2 %\n"
     ]
    }
   ],
   "source": [
    "Q#1\n",
    "print('-------------------------------------------------------')\n",
    "print('\\t\\t\\tMARK SHEET APP')\n",
    "print('-------------------------------------------------------\\n')\n",
    "print('Enter your marks to generate marksheet')\n",
    "Maths=float(input('Mathematics Marks(Total=100):'))\n",
    "Physics=float(input('Physics Marks(Total=100): '))\n",
    "Islamiat=float(input('Islamiat Marks(Total=100): '))\n",
    "English=float(input('English Marks(Total=100): '))\n",
    "Chemistry=float(input('Chemistry Marks(Total=100): '))\n",
    "totalMarks=500\n",
    "n=Maths+Physics+Islamiat+English+Chemistry\n",
    "Percentage=(n/totalMarks)*100\n",
    "if Percentage>=90:\n",
    "    print(\"A-One Grade\",Percentage,\"%\")\n",
    "elif Percentage>=80:\n",
    "    Maths=float(input('Mathematics Marks(Total=100): '))\n",
    "    print(\"A Grade\",Percentage,\"%\")\n",
    "elif Percentage>=70:\n",
    "    print(\"B Grade\",Percentage,\"%\")\n",
    "elif Percentage>=60:\n",
    "    print(\"C Grade\",Percentage,\"%\")\n",
    "elif Percentage>=50:\n",
    "    print(\"D Grade\",Percentage,\"%\")\n",
    "else:\n",
    "    print(\"Fail\",Percentage,\"%\")\n",
    "\n"
   ]
  },
  {
   "cell_type": "code",
   "execution_count": 1,
   "metadata": {},
   "outputs": [
    {
     "name": "stdout",
     "output_type": "stream",
     "text": [
      "Enter Number: 8\n",
      "Even Number\n"
     ]
    }
   ],
   "source": [
    "Q#2\n",
    "num=int(input('Enter Number: ')) \n",
    "if num%2==0:\n",
    "    print(\"Even Number\")\n",
    "else:       \n",
    "     print(\"Odd Number\")"
   ]
  },
  {
   "cell_type": "code",
   "execution_count": 7,
   "metadata": {},
   "outputs": [
    {
     "name": "stdout",
     "output_type": "stream",
     "text": [
      "length 5\n"
     ]
    }
   ],
   "source": [
    "Q#3\n",
    "L=[1,2,3,4,5]\n",
    "i=0\n",
    "for z in L:\n",
    "    i+=1\n",
    "print('length',i)"
   ]
  },
  {
   "cell_type": "code",
   "execution_count": 3,
   "metadata": {},
   "outputs": [
    {
     "name": "stdout",
     "output_type": "stream",
     "text": [
      "142\n"
     ]
    }
   ],
   "source": [
    "Q#4\n",
    "L=[1,2,3,4,5,6,56,65,'a']\n",
    "sum=0\n",
    "n=len(L)\n",
    "for i in range(n):\n",
    " if type(L[i])==int:\n",
    "  sum+=L[i]\n",
    "print(sum)"
   ]
  },
  {
   "cell_type": "code",
   "execution_count": 4,
   "metadata": {},
   "outputs": [
    {
     "name": "stdout",
     "output_type": "stream",
     "text": [
      "Largest Number is: 98\n"
     ]
    }
   ],
   "source": [
    "Q#5\n",
    "L=[12,45,32,98,67]\n",
    "max=L[0]\n",
    "for a in L:\n",
    "    if a>max:\n",
    "        max=a\n",
    "print(\"Largest Number is:\",max)"
   ]
  },
  {
   "cell_type": "code",
   "execution_count": 7,
   "metadata": {},
   "outputs": [
    {
     "name": "stdout",
     "output_type": "stream",
     "text": [
      "1\n",
      "1\n",
      "2\n",
      "3\n"
     ]
    }
   ],
   "source": [
    "Q#6\n",
    "a=[1,1,2,3,5,8,13,21,34,55,89]\n",
    "for i in a:\n",
    "    if i <5:\n",
    "        print(i)"
   ]
  },
  {
   "cell_type": "code",
   "execution_count": null,
   "metadata": {},
   "outputs": [],
   "source": []
  }
 ],
 "metadata": {
  "kernelspec": {
   "display_name": "Python 3",
   "language": "python",
   "name": "python3"
  },
  "language_info": {
   "codemirror_mode": {
    "name": "ipython",
    "version": 3
   },
   "file_extension": ".py",
   "mimetype": "text/x-python",
   "name": "python",
   "nbconvert_exporter": "python",
   "pygments_lexer": "ipython3",
   "version": "3.7.4"
  }
 },
 "nbformat": 4,
 "nbformat_minor": 2
}
