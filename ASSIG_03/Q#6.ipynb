{
 "cells": [
  {
   "cell_type": "code",
   "execution_count": 3,
   "metadata": {},
   "outputs": [
    {
     "name": "stdout",
     "output_type": "stream",
     "text": [
      "Enter Search Key Number: 5\n",
      "Key is present in the dictionary\n"
     ]
    }
   ],
   "source": [
    "Q#6\n",
    "\n",
    "d = {1: 'Faiza', 2: 20, 3: 30, 4: 'Rabia', 5: 50, 6: 60}\n",
    "\n",
    "x=int(input('Enter Search Key Number: '))\n",
    "if x in d:\n",
    "  print('Key is present in the dictionary')\n",
    "else:\n",
    "  print('Key is not present in the dictionary')"
   ]
  },
  {
   "cell_type": "code",
   "execution_count": null,
   "metadata": {},
   "outputs": [],
   "source": []
  }
 ],
 "metadata": {
  "kernelspec": {
   "display_name": "Python 3",
   "language": "python",
   "name": "python3"
  },
  "language_info": {
   "codemirror_mode": {
    "name": "ipython",
    "version": 3
   },
   "file_extension": ".py",
   "mimetype": "text/x-python",
   "name": "python",
   "nbconvert_exporter": "python",
   "pygments_lexer": "ipython3",
   "version": "3.7.4"
  }
 },
 "nbformat": 4,
 "nbformat_minor": 2
}
