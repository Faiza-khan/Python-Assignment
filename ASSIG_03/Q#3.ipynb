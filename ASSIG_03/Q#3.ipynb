{
 "cells": [
  {
   "cell_type": "code",
   "execution_count": 27,
   "metadata": {},
   "outputs": [
    {
     "name": "stdout",
     "output_type": "stream",
     "text": [
      "How many keys you want to add?:4\n",
      "Enterkey:6\n",
      "Enter value:Mazhar\n",
      "Enterkey:3\n",
      "Enter value:Ali\n",
      "Enterkey:2\n",
      "Enter value:Ayesha\n",
      "Enterkey:8\n",
      "Enter value:Azhar\n",
      "{6: 'Mazhar', 3: 'Ali', 2: 'Ayesha', 8: 'Azhar'}\n"
     ]
    }
   ],
   "source": [
    "Q#3\n",
    "d={}\n",
    "x=int(input(\"How many keys you want to add?:\"))\n",
    "for i in range(x):\n",
    "        c=int(input('Enterkey:'))\n",
    "        q=input('Enter value:')\n",
    "        d[c]=q\n",
    "print(d)"
   ]
  },
  {
   "cell_type": "code",
   "execution_count": null,
   "metadata": {},
   "outputs": [],
   "source": []
  },
  {
   "cell_type": "code",
   "execution_count": null,
   "metadata": {},
   "outputs": [],
   "source": []
  }
 ],
 "metadata": {
  "kernelspec": {
   "display_name": "Python 3",
   "language": "python",
   "name": "python3"
  },
  "language_info": {
   "codemirror_mode": {
    "name": "ipython",
    "version": 3
   },
   "file_extension": ".py",
   "mimetype": "text/x-python",
   "name": "python",
   "nbconvert_exporter": "python",
   "pygments_lexer": "ipython3",
   "version": "3.7.4"
  }
 },
 "nbformat": 4,
 "nbformat_minor": 2
}
