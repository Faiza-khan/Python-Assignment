{
 "cells": [
  {
   "cell_type": "code",
   "execution_count": 1,
   "metadata": {},
   "outputs": [
    {
     "name": "stdout",
     "output_type": "stream",
     "text": [
      "Enter first value: 50\n",
      "Enter second value: 20\n",
      "\n",
      "Enter your choice(+,-,*,/,**): +\n",
      "\n",
      "Answer : 70\n"
     ]
    }
   ],
   "source": [
    "ans = None\n",
    "num1 = int(input(\"Enter first value: \"))\n",
    "num2 = int(input(\"Enter second value: \"))\n",
    "\n",
    "choice = input(\"\\nEnter your choice(+,-,*,/,**): \")\n",
    "\n",
    "if choice == '+':\n",
    "    ans = num1+num2\n",
    "elif choice == '-':\n",
    "    ans = num1-num2\n",
    "elif choice == '*':\n",
    "    ans = num1*num2\n",
    "elif choice == '/':\n",
    "    ans = num1/num2\n",
    "elif choice == '**':\n",
    "    ans = num1**num2\n",
    "    \n",
    "print(f\"\\nAnswer : {ans}\")"
   ]
  },
  {
   "cell_type": "code",
   "execution_count": null,
   "metadata": {},
   "outputs": [],
   "source": []
  }
 ],
 "metadata": {
  "kernelspec": {
   "display_name": "Python 3",
   "language": "python",
   "name": "python3"
  },
  "language_info": {
   "codemirror_mode": {
    "name": "ipython",
    "version": 3
   },
   "file_extension": ".py",
   "mimetype": "text/x-python",
   "name": "python",
   "nbconvert_exporter": "python",
   "pygments_lexer": "ipython3",
   "version": "3.7.4"
  }
 },
 "nbformat": 4,
 "nbformat_minor": 2
}
