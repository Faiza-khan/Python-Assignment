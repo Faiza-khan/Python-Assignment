{
 "cells": [
  {
   "cell_type": "code",
   "execution_count": 2,
   "metadata": {},
   "outputs": [
    {
     "name": "stdout",
     "output_type": "stream",
     "text": [
      "Original List:  ['Ali', 'Asma', 'Ali', 1, 1, 0.4, 0.4, 2, 3, 4, 5, 6] \n",
      "\n",
      "Found Duplicate Values in List:  ['Ali', 1, 0.4]\n"
     ]
    }
   ],
   "source": [
    "Q#5\n",
    "l=[\"Ali\",\"Asma\",\"Ali\",1,1,0.4,0.4,2,3,4,5,6]\n",
    "n=[]\n",
    "d=[]\n",
    "for i in l:\n",
    "    if i in n:\n",
    "        d.append(i)\n",
    "    else:\n",
    "        n.append(i)\n",
    "print(\"Original List: \",l,\"\\n\")\n",
    "print(\"Found Duplicate Values in List: \",d)"
   ]
  },
  {
   "cell_type": "code",
   "execution_count": null,
   "metadata": {},
   "outputs": [],
   "source": []
  }
 ],
 "metadata": {
  "kernelspec": {
   "display_name": "Python 3",
   "language": "python",
   "name": "python3"
  },
  "language_info": {
   "codemirror_mode": {
    "name": "ipython",
    "version": 3
   },
   "file_extension": ".py",
   "mimetype": "text/x-python",
   "name": "python",
   "nbconvert_exporter": "python",
   "pygments_lexer": "ipython3",
   "version": "3.7.4"
  }
 },
 "nbformat": 4,
 "nbformat_minor": 2
}
