{
 "cells": [
  {
   "cell_type": "code",
   "execution_count": 4,
   "metadata": {},
   "outputs": [
    {
     "name": "stdout",
     "output_type": "stream",
     "text": [
      "Twinkle, twinkle, little star,\n",
      "\tHow I wonder what you are!,\n",
      "\t\tUp above the world so high, \n",
      "Like a diamond in the sky.,\n",
      "\tTwinkle, twinkle, little star,\n",
      "\t\tHow I wonder what you are\n"
     ]
    }
   ],
   "source": [
    "Q#1\n",
    "print (\"Twinkle, twinkle, little star,\\n\\tHow I wonder what you are!,\\n\\t\\tUp above the world so high,\\nLike a diamond in\n",
    "       the sky.,\\n\\tTwinkle, twinkle, little star,\\n\\t\\tHow I wonder what you are\")"
   ]
  },
  {
   "cell_type": "code",
   "execution_count": 5,
   "metadata": {},
   "outputs": [
    {
     "name": "stdout",
     "output_type": "stream",
     "text": [
      "3.7.4 (default, Aug  9 2019, 18:34:13) [MSC v.1915 64 bit (AMD64)]\n"
     ]
    }
   ],
   "source": [
    "Q#2\n",
    "\n",
    "import sys\n",
    "print(sys.version)"
   ]
  },
  {
   "cell_type": "code",
   "execution_count": 6,
   "metadata": {},
   "outputs": [
    {
     "name": "stdout",
     "output_type": "stream",
     "text": [
      "date 2019-11-03 /ntime 21:15:52.714324\n"
     ]
    }
   ],
   "source": [
    "Q#3\n",
    "import datetime\n",
    "x = datetime.datetime.now()\n",
    "print(\"date\",x.date(),\"/ntime\",x.time())"
   ]
  },
  {
   "cell_type": "code",
   "execution_count": 7,
   "metadata": {},
   "outputs": [
    {
     "name": "stdout",
     "output_type": "stream",
     "text": [
      "input the radius of the circle:6\n",
      "The area of the circle with radius6.0is:113.09733552923255\n"
     ]
    }
   ],
   "source": [
    "Q#4\n",
    "from math import pi\n",
    "radius = float(input(\"input the radius of the circle:\"))\n",
    "print(\"The area of the circle with radius\" + str(radius)+\"is:\" +str(pi*radius**2))\n",
    "\n"
   ]
  },
  {
   "cell_type": "code",
   "execution_count": 8,
   "metadata": {},
   "outputs": [
    {
     "name": "stdout",
     "output_type": "stream",
     "text": [
      "Enter first Name: Faiza\n",
      "Enter Last Name:Khan\n",
      "Khan Faiza\n"
     ]
    }
   ],
   "source": [
    "Q#5\n",
    "FN = input(\"Enter first Name: \")\n",
    "LN = input(\"Enter Last Name:\")\n",
    "print(LN,FN)"
   ]
  },
  {
   "cell_type": "code",
   "execution_count": 10,
   "metadata": {},
   "outputs": [
    {
     "name": "stdout",
     "output_type": "stream",
     "text": [
      "Addition between two Numbers\n",
      "First Number = 5\n",
      "second number = 8\n",
      "13.0\n"
     ]
    }
   ],
   "source": [
    "Q#6\n",
    "print(\"Addition between two Numbers\")\n",
    "a = float(input(\"First Number = \"))\n",
    "b = float(input(\"second number = \"))\n",
    "print (a+b)"
   ]
  },
  {
   "cell_type": "code",
   "execution_count": null,
   "metadata": {},
   "outputs": [],
   "source": []
  }
 ],
 "metadata": {
  "kernelspec": {
   "display_name": "Python 3",
   "language": "python",
   "name": "python3"
  },
  "language_info": {
   "codemirror_mode": {
    "name": "ipython",
    "version": 3
   },
   "file_extension": ".py",
   "mimetype": "text/x-python",
   "name": "python",
   "nbconvert_exporter": "python",
   "pygments_lexer": "ipython3",
   "version": "3.7.4"
  }
 },
 "nbformat": 4,
 "nbformat_minor": 2
}
