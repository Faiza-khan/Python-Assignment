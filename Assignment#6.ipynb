{
 "cells": [
  {
   "cell_type": "code",
   "execution_count": 1,
   "metadata": {},
   "outputs": [
    {
     "name": "stdout",
     "output_type": "stream",
     "text": [
      "Define Object Oriented Programming Language?\n",
      "\n",
      "Object-oriented programming (OOP) refers to a type of computer programming\n",
      "(software design) in which programmers define the data type of a data structure, and\n",
      "also the types of operations (functions) that can be applied to the data structure.\n",
      "In this way, the data structure becomes an object that includes both data and functions.\n",
      "In addition, programmers can create relationships between one object and another.\n",
      "For example, objects can inherit characteristics from other objects.\n"
     ]
    }
   ],
   "source": [
    "Q#1\n",
    "print(\"Define Object Oriented Programming Language?\")\n",
    "print()\n",
    "print(\"\"\"Object-oriented programming (OOP) refers to a type of computer programming\n",
    "(software design) in which programmers define the data type of a data structure, and\n",
    "also the types of operations (functions) that can be applied to the data structure.\n",
    "In this way, the data structure becomes an object that includes both data and functions.\n",
    "In addition, programmers can create relationships between one object and another.\n",
    "For example, objects can inherit characteristics from other objects.\"\"\")"
   ]
  },
  {
   "cell_type": "code",
   "execution_count": 2,
   "metadata": {},
   "outputs": [
    {
     "name": "stdout",
     "output_type": "stream",
     "text": [
      "List down the Benefits of OOP?\n",
      "\n",
      "(1) Reusability\n",
      "(2) Extensibility\n",
      "(3) Decomposability\n",
      "(4) Composability\n",
      "(5) Understandability\n",
      "(6) Security\n"
     ]
    }
   ],
   "source": [
    "Q#2\n",
    "print(\"List down the Benefits of OOP?\")\n",
    "print()\n",
    "print(\"(1) Reusability\")\n",
    "print(\"(2) Extensibility\")\n",
    "print(\"(3) Decomposability\")\n",
    "print(\"(4) Composability\")\n",
    "print(\"(5) Understandability\")\n",
    "print(\"(6) Security\")\n"
   ]
  },
  {
   "cell_type": "code",
   "execution_count": 3,
   "metadata": {},
   "outputs": [
    {
     "name": "stdout",
     "output_type": "stream",
     "text": [
      "Differentiate between function and method?\n",
      "\n",
      "A function is a piece of code that is called by name.\n",
      "It can be passed data to operate on (i.e. the parameters) and can\n",
      "optionally return data (the return value). All data that is passed\n",
      "to a function is explicitly passed. A method is a piece of code\n",
      "that is called by a name that is associated with an object.\n"
     ]
    }
   ],
   "source": [
    "Q#3\n",
    "print(\"Differentiate between function and method?\")\n",
    "print()\n",
    "print(\"\"\"A function is a piece of code that is called by name.\n",
    "It can be passed data to operate on (i.e. the parameters) and can\n",
    "optionally return data (the return value). All data that is passed\n",
    "to a function is explicitly passed. A method is a piece of code\n",
    "that is called by a name that is associated with an object.\"\"\")"
   ]
  },
  {
   "cell_type": "code",
   "execution_count": 5,
   "metadata": {},
   "outputs": [
    {
     "name": "stdout",
     "output_type": "stream",
     "text": [
      "Define the following terms:\n",
      "1. Class\n",
      "2. Object\n",
      "3. Attribute\n",
      "4. Behavior\n",
      "1) In object-oriented programming , a class is a\n",
      "template definition of the method s and variable s in a particular\n",
      "kind of object . Thus, an object is a specific instance of a class\n",
      "it contains real values instead of variables.\n",
      "\n",
      "2) In object-oriented programming (OOP), objects are the\n",
      "things you think about first in designing a program and they are\n",
      "also the units of code that are eventually derived from the process.\n",
      "Each object is an instance of a particular class or subclass with the\n",
      "class's own methods or procedures and data variables.\n",
      "\n",
      "3)  an attribute is a changeable property or characteristic of\n",
      "some component of a program that can be set to different values. In the\n",
      "Hypertext Markup Language (HTML), an attribute is a characteristic of a\n",
      "page element, such as a font.\n",
      "\n",
      "4) Behavioral Programming (BP) is an approach and technique\n",
      "for software development, which enables incremental development in a\n",
      "natural way. A behavioral application consists of threads of behavior\n",
      "each of which represents an independent scenario that the system should\n",
      "and shouldn't follow.\n"
     ]
    }
   ],
   "source": [
    "Q#4\n",
    "print(\"\"\"Define the following terms:\n",
    "1. Class\n",
    "2. Object\n",
    "3. Attribute\n",
    "4. Behavior\"\"\")\n",
    "\n",
    "print(\"\"\"1) In object-oriented programming , a class is a\n",
    "template definition of the method s and variable s in a particular\n",
    "kind of object . Thus, an object is a specific instance of a class\n",
    "it contains real values instead of variables.\"\"\")\n",
    "print()\n",
    "print(\"\"\"2) In object-oriented programming (OOP), objects are the\n",
    "things you think about first in designing a program and they are\n",
    "also the units of code that are eventually derived from the process.\n",
    "Each object is an instance of a particular class or subclass with the\n",
    "class's own methods or procedures and data variables.\"\"\")\n",
    "print()\n",
    "print(\"\"\"3)  an attribute is a changeable property or characteristic of\n",
    "some component of a program that can be set to different values. In the\n",
    "Hypertext Markup Language (HTML), an attribute is a characteristic of a\n",
    "page element, such as a font.\"\"\")\n",
    "print()\n",
    "print(\"\"\"4) Behavioral Programming (BP) is an approach and technique\n",
    "for software development, which enables incremental development in a\n",
    "natural way. A behavioral application consists of threads of behavior\n",
    "each of which represents an independent scenario that the system should\n",
    "and shouldn't follow.\"\"\")"
   ]
  },
  {
   "cell_type": "code",
   "execution_count": 6,
   "metadata": {},
   "outputs": [
    {
     "name": "stdout",
     "output_type": "stream",
     "text": [
      "The detail of car is as follows\n",
      "Car Name: Aulto\n",
      "Company: Suzuki\n",
      "Model: 2016\n",
      "Color: White\n",
      "Transmission: Manual\n",
      "\n",
      "The detail of car is as follows\n",
      "Car Name: Corolla\n",
      "Company: Toyota\n",
      "Model: 2017\n",
      "Color: Grey\n",
      "Transmission: Automatic\n",
      "\n",
      "The detail of car is as follows\n",
      "Car Name: Mini\n",
      "Company: Tata\n",
      "Model: 2018\n",
      "Color: White\n",
      "Transmission: Semi-automatic\n",
      "\n",
      "The detail of car is as follows\n",
      "Car Name: Picanto\n",
      "Company: Hyundai\n",
      "Model: 2019\n",
      "Color: Black\n",
      "Transmission: Automatic\n",
      "\n",
      "The detail of car is as follows\n",
      "Car Name: Mira\n",
      "Company: Japan Automobile\n",
      "Model: 2019\n",
      "Color: Silver\n",
      "Transmission: Automatic\n",
      "\n"
     ]
    }
   ],
   "source": [
    "Q#5\n",
    "class Car():\n",
    "    def __init__(self,name,company,model,color,transmission):\n",
    "        self.name = name\n",
    "        self.company = company\n",
    "        self.model = model\n",
    "        self.color = color\n",
    "        self.transmission = transmission\n",
    "\n",
    "car1 = Car(\"Aulto\",\"Suzuki\",\"2016\",\"White\",\"Manual\")\n",
    "print (\"The detail of car is as follows\\nCar Name: \"+car1.name+\"\\nCompany: \"+car1.company+\"\\nModel: \"+car1.model+\"\\nColor: \"+car1.color+\"\\nTransmission: \"+car1.transmission+\"\\n\")\n",
    "car2 = Car(\"Corolla\",\"Toyota\",\"2017\",\"Grey\",\"Automatic\")\n",
    "print (\"The detail of car is as follows\\nCar Name: \"+car2.name+\"\\nCompany: \"+car2.company+\"\\nModel: \"+car2.model+\"\\nColor: \"+car2.color+\"\\nTransmission: \"+car2.transmission+\"\\n\")\n",
    "car3 = Car(\"Mini\",\"Tata\",\"2018\",\"White\",\"Semi-automatic\")\n",
    "print (\"The detail of car is as follows\\nCar Name: \"+car3.name+\"\\nCompany: \"+car3.company+\"\\nModel: \"+car3.model+\"\\nColor: \"+car3.color+\"\\nTransmission: \"+car3.transmission+\"\\n\")\n",
    "car4 = Car(\"Picanto\",\"Hyundai\",\"2019\",\"Black\",\"Automatic\")\n",
    "print (\"The detail of car is as follows\\nCar Name: \"+car4.name+\"\\nCompany: \"+car4.company+\"\\nModel: \"+car4.model+\"\\nColor: \"+car4.color+\"\\nTransmission: \"+car4.transmission+\"\\n\")\n",
    "car5 = Car(\"Mira\",\"Japan Automobile\",\"2019\",\"Silver\",\"Automatic\")\n",
    "print (\"The detail of car is as follows\\nCar Name: \"+car5.name+\"\\nCompany: \"+car5.company+\"\\nModel: \"+car5.model+\"\\nColor: \"+car5.color+\"\\nTransmission: \"+car5.transmission+\"\\n\")\n"
   ]
  },
  {
   "cell_type": "code",
   "execution_count": null,
   "metadata": {},
   "outputs": [],
   "source": []
  }
 ],
 "metadata": {
  "kernelspec": {
   "display_name": "Python 3",
   "language": "python",
   "name": "python3"
  },
  "language_info": {
   "codemirror_mode": {
    "name": "ipython",
    "version": 3
   },
   "file_extension": ".py",
   "mimetype": "text/x-python",
   "name": "python",
   "nbconvert_exporter": "python",
   "pygments_lexer": "ipython3",
   "version": "3.7.4"
  }
 },
 "nbformat": 4,
 "nbformat_minor": 2
}
