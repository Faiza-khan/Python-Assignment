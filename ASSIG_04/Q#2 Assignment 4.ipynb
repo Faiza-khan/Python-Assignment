{
 "cells": [
  {
   "cell_type": "code",
   "execution_count": 2,
   "metadata": {},
   "outputs": [
    {
     "name": "stdout",
     "output_type": "stream",
     "text": [
      "\n",
      "Karachi\n",
      "\n",
      "country : Pakistan\n",
      "population : 15741000\n",
      "fact : Karachi is vital to Pakistan's economy, contributing 42 per cent of GDP,\n",
      "        70 per cent of income tax revenue and 62 per cent of sales tax revenue\n",
      "\n",
      "Lahore\n",
      "\n",
      "country : Pakistan\n",
      "population : 12188000\n",
      "fact : Lahore is the capital city of the Pakistani province of Punjab.\n",
      "        It is the second largest and most populous city in Pakistan\n",
      "\n",
      "Islamabad\n",
      "\n",
      "country : Pakistan\n",
      "population : 1095064\n",
      "fact : Islamabad is the capital of the top adventurous place Pakistan.This city\n",
      "        is famous due to the many parks, forests, greenery, breathtaking sites, safety,\n",
      "        high living standard, world fourth largest mosque and the Margalla Hills National park.\n"
     ]
    }
   ],
   "source": [
    "Q#2\n",
    "cities={\n",
    "    \"Karachi\":{\n",
    "        \"country\":\"Pakistan\",\n",
    "        \"population\":15741000,\n",
    "        \"fact\":\"\"\"Karachi is vital to Pakistan's economy, contributing 42 per cent of GDP,\n",
    "        70 per cent of income tax revenue and 62 per cent of sales tax revenue\"\"\"\n",
    "    },\n",
    "    \"Lahore\":{\n",
    "        \"country\":\"Pakistan\",\n",
    "        \"population\":12188000,\n",
    "        \"fact\":\"\"\"Lahore is the capital city of the Pakistani province of Punjab.\n",
    "        It is the second largest and most populous city in Pakistan\"\"\"\n",
    "    },\n",
    "    \"Islamabad\":{\n",
    "        \"country\":\"Pakistan\",\n",
    "        \"population\":1095064,\n",
    "        \"fact\":\"\"\"Islamabad is the capital of the top adventurous place Pakistan.This city\n",
    "        is famous due to the many parks, forests, greenery, breathtaking sites, safety,\n",
    "        high living standard, world fourth largest mosque and the Margalla Hills National park.\"\"\"\n",
    "    }\n",
    "}\n",
    "for citykey,cityinfo in cities.items():\n",
    "    print(\"\\n\"+citykey+\"\\n\")\n",
    "    for city in cityinfo:\n",
    "        print(city,\":\",str(cityinfo[city]))\n",
    "\n"
   ]
  },
  {
   "cell_type": "code",
   "execution_count": null,
   "metadata": {},
   "outputs": [],
   "source": []
  }
 ],
 "metadata": {
  "kernelspec": {
   "display_name": "Python 3",
   "language": "python",
   "name": "python3"
  },
  "language_info": {
   "codemirror_mode": {
    "name": "ipython",
    "version": 3
   },
   "file_extension": ".py",
   "mimetype": "text/x-python",
   "name": "python",
   "nbconvert_exporter": "python",
   "pygments_lexer": "ipython3",
   "version": "3.7.4"
  }
 },
 "nbformat": 4,
 "nbformat_minor": 2
}
