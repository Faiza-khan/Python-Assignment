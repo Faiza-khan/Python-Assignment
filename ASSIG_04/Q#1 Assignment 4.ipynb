{
 "cells": [
  {
   "cell_type": "code",
   "execution_count": 1,
   "metadata": {},
   "outputs": [
    {
     "name": "stdout",
     "output_type": "stream",
     "text": [
      "first_name : Faiza\n",
      "last_name : Khan\n",
      "age : 20\n",
      "city : Mirpurkhas\n",
      "\n",
      "Add Qualification \n",
      "\n",
      "qualification : Intermediate\n",
      "\n",
      "Update Qualification \n",
      "\n",
      "first_name : Faiza\n",
      "last_name : Khan\n",
      "age : 20\n",
      "city : Mirpurkhas\n",
      "qualification : High Academic\n",
      "\n",
      "Delete Qualification \n",
      "\n",
      "{'first_name': 'Faiza', 'last_name': 'Khan', 'age': 20, 'city': 'Mirpurkhas'}\n"
     ]
    }
   ],
   "source": [
    "person_dict={'first_name':'Faiza','last_name':'Khan',\n",
    "            'age':20,'city':'Mirpurkhas'}\n",
    "\n",
    "for key, value in person_dict.items():\n",
    "    print(key,\":\",value)\n",
    "print(\"\\nAdd Qualification \\n\")\n",
    "person_dict[\"qualification\"]=\"Intermediate\"\n",
    "print('qualification :',person_dict[\"qualification\"])\n",
    "\n",
    "print(\"\\nUpdate Qualification \\n\")\n",
    "person_dict[\"qualification\"]=\"High Academic\"\n",
    "for key, value in person_dict.items():\n",
    "    print(key,\":\",value)\n",
    "\n",
    "print(\"\\nDelete Qualification \\n\")\n",
    "del person_dict[\"qualification\"]\n",
    "print(person_dict)"
   ]
  },
  {
   "cell_type": "code",
   "execution_count": null,
   "metadata": {},
   "outputs": [],
   "source": []
  }
 ],
 "metadata": {
  "kernelspec": {
   "display_name": "Python 3",
   "language": "python",
   "name": "python3"
  },
  "language_info": {
   "codemirror_mode": {
    "name": "ipython",
    "version": 3
   },
   "file_extension": ".py",
   "mimetype": "text/x-python",
   "name": "python",
   "nbconvert_exporter": "python",
   "pygments_lexer": "ipython3",
   "version": "3.7.4"
  }
 },
 "nbformat": 4,
 "nbformat_minor": 2
}
