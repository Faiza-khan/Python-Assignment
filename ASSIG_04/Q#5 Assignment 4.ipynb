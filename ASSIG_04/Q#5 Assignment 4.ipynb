{
 "cells": [
  {
   "cell_type": "code",
   "execution_count": 3,
   "metadata": {},
   "outputs": [
    {
     "name": "stdout",
     "output_type": "stream",
     "text": [
      "You Have 3 chances to guess the number\n",
      "\n",
      "2\n",
      "Enter number between 1 to 30: 2\n",
      "You guess the correct Number\n"
     ]
    }
   ],
   "source": [
    "Q#5\n",
    "import random\n",
    "a=0\n",
    "Rand_Number=0\n",
    "print('You Have 3 chances to guess the number\\n')\n",
    "Rand_Number=int(random.randrange(1,30))  \n",
    "while a<3:\n",
    "    userNumber=int(input(\"Enter number between 1 to 30: \"))\n",
    "    a+=1\n",
    "    if Rand_Number>userNumber:\n",
    "        print(\"Hidden number is greater\\n\")\n",
    "    elif Rand_Number<userNumber:\n",
    "        print(\"Hidden number is Smaller\\n\")\n",
    "    else:\n",
    "        print(\"You guess the correct Number\")\n",
    "        break\n",
    "      "
   ]
  },
  {
   "cell_type": "code",
   "execution_count": null,
   "metadata": {},
   "outputs": [],
   "source": []
  }
 ],
 "metadata": {
  "kernelspec": {
   "display_name": "Python 3",
   "language": "python",
   "name": "python3"
  },
  "language_info": {
   "codemirror_mode": {
    "name": "ipython",
    "version": 3
   },
   "file_extension": ".py",
   "mimetype": "text/x-python",
   "name": "python",
   "nbconvert_exporter": "python",
   "pygments_lexer": "ipython3",
   "version": "3.7.4"
  }
 },
 "nbformat": 4,
 "nbformat_minor": 2
}
